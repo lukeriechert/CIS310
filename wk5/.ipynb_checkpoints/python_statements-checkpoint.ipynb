{
 "cells": [
  {
   "cell_type": "markdown",
   "metadata": {},
   "source": [
    "# Luke Riechert\n",
    "## wk5 09/22/2020\n",
    "### Python Statements [if,else,elif]"
   ]
  },
  {
   "cell_type": "markdown",
   "metadata": {},
   "source": [
    "if condition1:\n",
    "    perform action1\n",
    "elif condition1:\n",
    "    perform action2\n",
    "else:\n",
    "    perform action3"
   ]
  },
  {
   "cell_type": "code",
   "execution_count": 2,
   "metadata": {},
   "outputs": [
    {
     "name": "stdout",
     "output_type": "stream",
     "text": [
      "It was correct!\n"
     ]
    }
   ],
   "source": [
    "if True:\n",
    "    print(\"It was correct!\")"
   ]
  },
  {
   "cell_type": "code",
   "execution_count": 4,
   "metadata": {},
   "outputs": [
    {
     "name": "stdout",
     "output_type": "stream",
     "text": [
      "Hi Five!\n"
     ]
    }
   ],
   "source": [
    "value = 5\n",
    "\n",
    "if value == 5:\n",
    "    print(\"Hi Five!\")\n",
    "else:\n",
    "    print(\"Let's try again!\")"
   ]
  },
  {
   "cell_type": "code",
   "execution_count": 5,
   "metadata": {},
   "outputs": [
    {
     "name": "stdout",
     "output_type": "stream",
     "text": [
      "Let's try again!\n"
     ]
    }
   ],
   "source": [
    "value = 6\n",
    "\n",
    "if value == 5:\n",
    "    print(\"Hi Five!\")\n",
    "else:\n",
    "    print(\"Let's try again!\")"
   ]
  },
  {
   "cell_type": "code",
   "execution_count": 6,
   "metadata": {},
   "outputs": [
    {
     "name": "stdout",
     "output_type": "stream",
     "text": [
      "You may redo test2\n"
     ]
    }
   ],
   "source": [
    "test1 = 98\n",
    "test2 = 87\n",
    "\n",
    "if test2 < test1:\n",
    "    print(\"You may redo test2\")"
   ]
  },
  {
   "cell_type": "code",
   "execution_count": 7,
   "metadata": {},
   "outputs": [
    {
     "name": "stdout",
     "output_type": "stream",
     "text": [
      "Then redo test1\n"
     ]
    }
   ],
   "source": [
    "test1 = 98\n",
    "test2 = 87\n",
    "\n",
    "if test1 < test2:\n",
    "    print(\"You may redo test2\")\n",
    "else:\n",
    "    print(\"Then redo test1\")"
   ]
  },
  {
   "cell_type": "code",
   "execution_count": 20,
   "metadata": {},
   "outputs": [
    {
     "name": "stdout",
     "output_type": "stream",
     "text": [
      "test1 is greater than test2\n",
      "You may think to redo test2!\n"
     ]
    }
   ],
   "source": [
    "test1= 93\n",
    "test2 = 91\n",
    "\n",
    "if test1 > test2:\n",
    "    print(\"test1 is greater than test2\")\n",
    "    print(\"You may think to redo test2!\")\n",
    "elif test2 > test1:\n",
    "    print(\"test2 is greater than test1\")\n",
    "    print(\"You may think to redo test1!\")\n",
    "else:\n",
    "    print(\"test1 and test2 scores are equal!\")"
   ]
  },
  {
   "cell_type": "code",
   "execution_count": 21,
   "metadata": {},
   "outputs": [
    {
     "name": "stdout",
     "output_type": "stream",
     "text": [
      "test1 is greater than test2\n"
     ]
    }
   ],
   "source": [
    "#short hand if Statement\n",
    "if test1 > test2:print(\"test1 is greater than test2\")"
   ]
  },
  {
   "cell_type": "code",
   "execution_count": 22,
   "metadata": {},
   "outputs": [
    {
     "name": "stdout",
     "output_type": "stream",
     "text": [
      "test1\n"
     ]
    }
   ],
   "source": [
    "#short hand if Else\n",
    "print(\"test1\") if test1 > test2 else print (\"test2\")"
   ]
  },
  {
   "cell_type": "code",
   "execution_count": 4,
   "metadata": {},
   "outputs": [
    {
     "name": "stdout",
     "output_type": "stream",
     "text": [
      "Welcome to Florida!\n"
     ]
    }
   ],
   "source": [
    "s = \"Florida\"\n",
    "if s == \"Colorado\":\n",
    "    print(\"Welcome to Colorado!\")\n",
    "elif s == \"Florida\":\n",
    "    print(\"Welcome to Florida!\")\n",
    "elif s == \"Texas\":\n",
    "    print(\"Welcome to Texas!\")\n",
    "else:\n",
    "    print(\"Where are you now that I need you?\")"
   ]
  },
  {
   "cell_type": "code",
   "execution_count": 10,
   "metadata": {},
   "outputs": [
    {
     "name": "stdout",
     "output_type": "stream",
     "text": [
      "s2 is the lowest score\n"
     ]
    }
   ],
   "source": [
    "#And\n",
    "s1 = 80\n",
    "s2 = 75\n",
    "s3 = 92\n",
    "\n",
    "if s1 > s2 and s3 > s2:\n",
    "    print(\"s2 is the lowest score\")"
   ]
  },
  {
   "cell_type": "code",
   "execution_count": 11,
   "metadata": {},
   "outputs": [
    {
     "name": "stdout",
     "output_type": "stream",
     "text": [
      "s1 is not the lowest score\n"
     ]
    }
   ],
   "source": [
    "#or logical operators\n",
    "if s1 > s2 or s1 > s3:\n",
    "    print(\"s1 is not the lowest score\")\n",
    "else:\n",
    "    print(\"s1 is the lowest score\")"
   ]
  },
  {
   "cell_type": "code",
   "execution_count": 14,
   "metadata": {},
   "outputs": [
    {
     "name": "stdout",
     "output_type": "stream",
     "text": [
      "Above 40,\n",
      " but not above 80.\n"
     ]
    }
   ],
   "source": [
    "#Nested if statement\n",
    "s1 = 80\n",
    "\n",
    "if s1 > 40:\n",
    "    print(\"Above 40,\")\n",
    "    if s1 > 80:\n",
    "        print(\" and also above 60,\")\n",
    "    else:\n",
    "        print(\" but not above 80.\")"
   ]
  },
  {
   "cell_type": "code",
   "execution_count": 15,
   "metadata": {},
   "outputs": [],
   "source": [
    "if s1 > 60:\n",
    "    pass"
   ]
  },
  {
   "cell_type": "code",
   "execution_count": null,
   "metadata": {},
   "outputs": [],
   "source": []
  }
 ],
 "metadata": {
  "kernelspec": {
   "display_name": "Python 3.7 - default",
   "language": "python",
   "name": "py37_default"
  },
  "language_info": {
   "codemirror_mode": {
    "name": "ipython",
    "version": 3
   },
   "file_extension": ".py",
   "mimetype": "text/x-python",
   "name": "python",
   "nbconvert_exporter": "python",
   "pygments_lexer": "ipython3",
   "version": "3.7.7"
  }
 },
 "nbformat": 4,
 "nbformat_minor": 4
}
